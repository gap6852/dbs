{
 "cells": [
  {
   "cell_type": "code",
   "execution_count": 1,
   "id": "7fea6fb3",
   "metadata": {},
   "outputs": [],
   "source": [
    "from flask import Flask,request,render_template\n"
   ]
  },
  {
   "cell_type": "code",
   "execution_count": 2,
   "id": "d750f1d1",
   "metadata": {},
   "outputs": [],
   "source": [
    "import joblib"
   ]
  },
  {
   "cell_type": "code",
   "execution_count": 3,
   "id": "8b8bd3bd",
   "metadata": {},
   "outputs": [],
   "source": [
    "app = Flask(__name__)"
   ]
  },
  {
   "cell_type": "code",
   "execution_count": 4,
   "id": "02b4bf87",
   "metadata": {},
   "outputs": [],
   "source": [
    "@app.route(\"/\",methods = [\"GET\",\"POST\"])\n",
    "def index():\n",
    "    if request.method == \"POST\":\n",
    "        rates = float(request.form.get(\"rates\"))\n",
    "        model1 = joblib.load(\"regression\")\n",
    "        r1 = model1.predict([[rates]])\n",
    "        model2 = joblib.load(\"tree\")\n",
    "        r2 = model2.predict([[rates]])\n",
    "        print(rates)\n",
    "        return(render_template(\"index.html\", result1 = r1, result2 = r2))\n",
    "    else:\n",
    "        return(render_template(\"index.html\", result1 = \"waiting\", result2 = \"waiting\"))\n",
    "    "
   ]
  },
  {
   "cell_type": "code",
   "execution_count": null,
   "id": "99b283b0",
   "metadata": {},
   "outputs": [
    {
     "name": "stdout",
     "output_type": "stream",
     "text": [
      " * Serving Flask app '__main__'\n",
      " * Debug mode: off\n"
     ]
    },
    {
     "name": "stderr",
     "output_type": "stream",
     "text": [
      "WARNING: This is a development server. Do not use it in a production deployment. Use a production WSGI server instead.\n",
      " * Running on http://127.0.0.1:5000\n",
      "Press CTRL+C to quit\n",
      "127.0.0.1 - - [24/Aug/2022 00:04:03] \"GET / HTTP/1.1\" 200 -\n",
      "C:\\Users\\grace\\anaconda3\\lib\\site-packages\\sklearn\\base.py:318: UserWarning: Trying to unpickle estimator LinearRegression from version 1.1.2 when using version 0.22.1. This might lead to breaking code or invalid results. Use at your own risk.\n",
      "  UserWarning)\n",
      "C:\\Users\\grace\\anaconda3\\lib\\site-packages\\sklearn\\base.py:318: UserWarning: Trying to unpickle estimator DecisionTreeRegressor from version 1.1.2 when using version 0.22.1. This might lead to breaking code or invalid results. Use at your own risk.\n",
      "  UserWarning)\n",
      "[2022-08-24 00:04:08,726] ERROR in app: Exception on / [POST]\n",
      "Traceback (most recent call last):\n",
      "  File \"C:\\Users\\grace\\anaconda3\\lib\\site-packages\\flask\\app.py\", line 2525, in wsgi_app\n",
      "    response = self.full_dispatch_request()\n",
      "  File \"C:\\Users\\grace\\anaconda3\\lib\\site-packages\\flask\\app.py\", line 1822, in full_dispatch_request\n",
      "    rv = self.handle_user_exception(e)\n",
      "  File \"C:\\Users\\grace\\anaconda3\\lib\\site-packages\\flask\\app.py\", line 1820, in full_dispatch_request\n",
      "    rv = self.dispatch_request()\n",
      "  File \"C:\\Users\\grace\\anaconda3\\lib\\site-packages\\flask\\app.py\", line 1796, in dispatch_request\n",
      "    return self.ensure_sync(self.view_functions[rule.endpoint])(**view_args)\n",
      "  File \"<ipython-input-4-8a2ebc2f2224>\", line 8, in index\n",
      "    r2 = model2.predict([[rates]])\n",
      "  File \"C:\\Users\\grace\\anaconda3\\lib\\site-packages\\sklearn\\tree\\_classes.py\", line 419, in predict\n",
      "    X = self._validate_X_predict(X, check_input)\n",
      "  File \"C:\\Users\\grace\\anaconda3\\lib\\site-packages\\sklearn\\tree\\_classes.py\", line 387, in _validate_X_predict\n",
      "    if self.n_features_ != n_features:\n",
      "AttributeError: 'DecisionTreeRegressor' object has no attribute 'n_features_'\n",
      "127.0.0.1 - - [24/Aug/2022 00:04:08] \"POST / HTTP/1.1\" 500 -\n"
     ]
    }
   ],
   "source": [
    "if __name__ == \"__main__\":\n",
    "    app.run()"
   ]
  },
  {
   "cell_type": "code",
   "execution_count": null,
   "id": "b9aa89fc",
   "metadata": {},
   "outputs": [],
   "source": []
  }
 ],
 "metadata": {
  "kernelspec": {
   "display_name": "Python 3",
   "language": "python",
   "name": "python3"
  },
  "language_info": {
   "codemirror_mode": {
    "name": "ipython",
    "version": 3
   },
   "file_extension": ".py",
   "mimetype": "text/x-python",
   "name": "python",
   "nbconvert_exporter": "python",
   "pygments_lexer": "ipython3",
   "version": "3.7.6"
  }
 },
 "nbformat": 4,
 "nbformat_minor": 5
}
